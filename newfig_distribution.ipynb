{
 "cells": [
  {
   "cell_type": "code",
   "execution_count": 11,
   "metadata": {},
   "outputs": [],
   "source": [
    "import pandas as pd\n",
    "import os\n",
    "import matplotlib.pyplot as plt\n",
    "from matplotlib_scalebar.scalebar import ScaleBar\n",
    "import matplotlib.patches as mpatches\n",
    "import geopandas as gpd\n",
    "import seaborn as sns\n",
    "import numpy as np"
   ]
  },
  {
   "cell_type": "code",
   "execution_count": 12,
   "metadata": {},
   "outputs": [],
   "source": [
    "from scipy import spatial"
   ]
  },
  {
   "cell_type": "code",
   "execution_count": 13,
   "metadata": {},
   "outputs": [
    {
     "data": {
      "text/plain": [
       "['file_9.txt',\n",
       " 'file_7.txt',\n",
       " 'file_6.txt',\n",
       " 'file_1.txt',\n",
       " 'file_2.txt',\n",
       " 'file_4.txt',\n",
       " 'file_3.txt',\n",
       " 'file_10.txt',\n",
       " 'file_8.txt',\n",
       " 'file_5.txt']"
      ]
     },
     "execution_count": 13,
     "metadata": {},
     "output_type": "execute_result"
    }
   ],
   "source": [
    "os.listdir('results/result_k (0.306982 max)')"
   ]
  },
  {
   "cell_type": "code",
   "execution_count": 14,
   "metadata": {},
   "outputs": [],
   "source": [
    "best_res = 'results/result_k (0.306982 max)'"
   ]
  },
  {
   "cell_type": "code",
   "execution_count": 18,
   "metadata": {},
   "outputs": [
    {
     "data": {
      "text/plain": [
       "<matplotlib.collections.PathCollection at 0x7f193dec2e80>"
      ]
     },
     "execution_count": 18,
     "metadata": {},
     "output_type": "execute_result"
    },
    {
     "data": {
      "image/png": "[encoded data removed]",
      "text/plain": [
       "<Figure size 432x288 with 1 Axes>"
      ]
     },
     "metadata": {
      "needs_background": "light"
     },
     "output_type": "display_data"
    }
   ],
   "source": [
    "this_res = os.path.join(best_res, 'file_5.txt')\n",
    "\n",
    "df_this_res =     pd.read_csv(this_res, sep='\\t', header=None, names=['X', 'Y'])\n",
    "#df_this_res = df_this_res.rename(columns={'x':'X', 'y':'Y'})\n",
    "df_seven = df_this_res\n",
    "plt.scatter(df_this_res['X'], df_this_res['Y'])"
   ]
  },
  {
   "cell_type": "code",
   "execution_count": 16,
   "metadata": {},
   "outputs": [
    {
     "data": {
      "text/html": [
       "<div>\n",
       "<style scoped>\n",
       "    .dataframe tbody tr th:only-of-type {\n",
       "        vertical-align: middle;\n",
       "    }\n",
       "\n",
       "    .dataframe tbody tr th {\n",
       "        vertical-align: top;\n",
       "    }\n",
       "\n",
       "    .dataframe thead th {\n",
       "        text-align: right;\n",
       "    }\n",
       "</style>\n",
       "<table border=\"1\" class=\"dataframe\">\n",
       "  <thead>\n",
       "    <tr style=\"text-align: right;\">\n",
       "      <th></th>\n",
       "      <th>X</th>\n",
       "      <th>Y</th>\n",
       "    </tr>\n",
       "  </thead>\n",
       "  <tbody>\n",
       "    <tr>\n",
       "      <th>0</th>\n",
       "      <td>302660.97</td>\n",
       "      <td>2768906.07</td>\n",
       "    </tr>\n",
       "    <tr>\n",
       "      <th>1</th>\n",
       "      <td>300760.57</td>\n",
       "      <td>2778420.05</td>\n",
       "    </tr>\n",
       "    <tr>\n",
       "      <th>2</th>\n",
       "      <td>302487.08</td>\n",
       "      <td>2776929.08</td>\n",
       "    </tr>\n",
       "    <tr>\n",
       "      <th>3</th>\n",
       "      <td>307368.25</td>\n",
       "      <td>2764711.76</td>\n",
       "    </tr>\n",
       "    <tr>\n",
       "      <th>4</th>\n",
       "      <td>305115.84</td>\n",
       "      <td>2764553.05</td>\n",
       "    </tr>\n",
       "  </tbody>\n",
       "</table>\n",
       "</div>"
      ],
      "text/plain": [
       "           X           Y\n",
       "0  302660.97  2768906.07\n",
       "1  300760.57  2778420.05\n",
       "2  302487.08  2776929.08\n",
       "3  307368.25  2764711.76\n",
       "4  305115.84  2764553.05"
      ]
     },
     "execution_count": 16,
     "metadata": {},
     "output_type": "execute_result"
    }
   ],
   "source": [
    "case_tar_txt = 'Figure 2/1415OHCA.txt'\n",
    "df_tar = pd.read_csv(case_tar_txt, sep='\\t')\n",
    "df_tar = df_tar.rename(columns={'x':'X', 'y':'Y'})\n",
    "df_tar.head()"
   ]
  },
  {
   "cell_type": "code",
   "execution_count": 19,
   "metadata": {},
   "outputs": [],
   "source": [
    "a = list(zip(df_seven['X'].tolist(), df_seven['Y'].tolist()))\n",
    "tree = spatial.KDTree(a)"
   ]
  },
  {
   "cell_type": "code",
   "execution_count": 20,
   "metadata": {},
   "outputs": [],
   "source": [
    "pts = list(zip(df_tar['X'].tolist(), df_tar['Y'].tolist()))"
   ]
  },
  {
   "cell_type": "code",
   "execution_count": 21,
   "metadata": {},
   "outputs": [],
   "source": [
    "dis, iss = tree.query(pts)"
   ]
  },
  {
   "cell_type": "code",
   "execution_count": 22,
   "metadata": {},
   "outputs": [
    {
     "data": {
      "text/plain": [
       "1415"
      ]
     },
     "execution_count": 22,
     "metadata": {},
     "output_type": "execute_result"
    }
   ],
   "source": [
    "len(iss)"
   ]
  },
  {
   "cell_type": "code",
   "execution_count": 23,
   "metadata": {},
   "outputs": [
    {
     "data": {
      "text/plain": [
       "734"
      ]
     },
     "execution_count": 23,
     "metadata": {},
     "output_type": "execute_result"
    }
   ],
   "source": [
    "mdists = []\n",
    "mdists2 = []\n",
    "for i in range(len(iss)):\n",
    "    seven = df_seven.iloc[iss[i]]\n",
    "    seven_x, seven_y = seven['X'], seven['Y']\n",
    "    case = df_tar.iloc[i]\n",
    "    case_x, case_y = case['X'], case['Y']\n",
    "    md = abs(case_x-seven_x)+abs(case_y-seven_y)\n",
    "    mdists.append(md)\n",
    "    if md<=360:\n",
    "        mdists2.append(md)\n",
    "len(mdists2)"
   ]
  },
  {
   "cell_type": "code",
   "execution_count": 24,
   "metadata": {},
   "outputs": [
    {
     "data": {
      "text/plain": [
       "[<matplotlib.axis.XTick at 0x7f193de8f240>,\n",
       " <matplotlib.axis.XTick at 0x7f193df8fdd8>,\n",
       " <matplotlib.axis.XTick at 0x7f193de864e0>,\n",
       " <matplotlib.axis.XTick at 0x7f193de58940>,\n",
       " <matplotlib.axis.XTick at 0x7f193ddf95c0>,\n",
       " <matplotlib.axis.XTick at 0x7f193ddf9a90>,\n",
       " <matplotlib.axis.XTick at 0x7f193ddf9e80>,\n",
       " <matplotlib.axis.XTick at 0x7f193de03550>,\n",
       " <matplotlib.axis.XTick at 0x7f193de03a90>]"
      ]
     },
     "execution_count": 24,
     "metadata": {},
     "output_type": "execute_result"
    },
    {
     "data": {
      "image/png": "[encoded data removed]",
      "text/plain": [
       "<Figure size 576x432 with 1 Axes>"
      ]
     },
     "metadata": {
      "needs_background": "light"
     },
     "output_type": "display_data"
    }
   ],
   "source": [
    "fig, ax = plt.subplots(figsize=(8,6))\n",
    "sns.distplot(mdists, bins=[ i*45 for i in range(9) ], kde=False, ax=ax, hist_kws={\"linewidth\": 1, \"facecolor\":'blue', 'edgecolor':'white'})\n",
    "#ax.axvline(x=45*8, ls=':', color='grey')\n",
    "ax.set_xlim([0, 360])\n",
    "ax.set_xticks([ i*45 for i in range(9) ])\n"
   ]
  },
  {
   "cell_type": "code",
   "execution_count": 25,
   "metadata": {},
   "outputs": [
    {
     "data": {
      "text/plain": [
       "360"
      ]
     },
     "execution_count": 25,
     "metadata": {},
     "output_type": "execute_result"
    }
   ],
   "source": [
    "45*8"
   ]
  },
  {
   "cell_type": "code",
   "execution_count": null,
   "metadata": {},
   "outputs": [],
   "source": []
  },
  {
   "cell_type": "code",
   "execution_count": null,
   "metadata": {},
   "outputs": [],
   "source": []
  },
  {
   "cell_type": "code",
   "execution_count": 26,
   "metadata": {},
   "outputs": [],
   "source": [
    "a2 = list(zip(df_tar['X'].tolist(), df_tar['Y'].tolist()))\n",
    "tree2 = spatial.KDTree(a2)"
   ]
  },
  {
   "cell_type": "code",
   "execution_count": 27,
   "metadata": {},
   "outputs": [],
   "source": [
    "pts2 = list(zip(df_seven['X'].tolist(), df_seven['Y'].tolist()))"
   ]
  },
  {
   "cell_type": "code",
   "execution_count": 28,
   "metadata": {},
   "outputs": [],
   "source": [
    "covered = tree2.query_ball_point(pts2, 45*8.)"
   ]
  },
  {
   "cell_type": "code",
   "execution_count": 29,
   "metadata": {},
   "outputs": [],
   "source": [
    "covered_len = []\n",
    "for cv in covered:\n",
    "    covered_len.append(len(cv))\n"
   ]
  },
  {
   "cell_type": "code",
   "execution_count": 30,
   "metadata": {},
   "outputs": [
    {
     "data": {
      "text/plain": [
       "[<matplotlib.axis.XTick at 0x7f193dd8f358>,\n",
       " <matplotlib.axis.XTick at 0x7f193dd80c50>,\n",
       " <matplotlib.axis.XTick at 0x7f193dd80978>,\n",
       " <matplotlib.axis.XTick at 0x7f193dd25e80>,\n",
       " <matplotlib.axis.XTick at 0x7f193dd4d9e8>,\n",
       " <matplotlib.axis.XTick at 0x7f193dd4deb8>,\n",
       " <matplotlib.axis.XTick at 0x7f193dd5a3c8>,\n",
       " <matplotlib.axis.XTick at 0x7f193dd5a898>,\n",
       " <matplotlib.axis.XTick at 0x7f193dd5ad68>,\n",
       " <matplotlib.axis.XTick at 0x7f193dd60278>,\n",
       " <matplotlib.axis.XTick at 0x7f193dd60748>,\n",
       " <matplotlib.axis.XTick at 0x7f193dd60c18>,\n",
       " <matplotlib.axis.XTick at 0x7f193dce6160>]"
      ]
     },
     "execution_count": 30,
     "metadata": {},
     "output_type": "execute_result"
    },
    {
     "data": {
      "image/png": "[encoded data removed]",
      "text/plain": [
       "<Figure size 576x432 with 1 Axes>"
      ]
     },
     "metadata": {
      "needs_background": "light"
     },
     "output_type": "display_data"
    }
   ],
   "source": [
    "fig, ax = plt.subplots(figsize=(8,6))\n",
    "sns.distplot(covered_len, kde=False, ax=ax, bins=[0]+[ 1+i*2 for i in range(12) ], hist_kws={\"linewidth\": 1, \"facecolor\":'blue', 'edgecolor':'white'})\n",
    "ax.set_xticks([0]+[ 1+i*2 for i in range(12) ])"
   ]
  },
  {
   "cell_type": "code",
   "execution_count": 31,
   "metadata": {},
   "outputs": [
    {
     "data": {
      "text/plain": [
       "[<matplotlib.axis.XTick at 0x7f193de69eb8>,\n",
       " <matplotlib.axis.XTick at 0x7f193dcfcda0>,\n",
       " <matplotlib.axis.XTick at 0x7f193dcfce10>,\n",
       " <matplotlib.axis.XTick at 0x7f193dcb0c50>,\n",
       " <matplotlib.axis.XTick at 0x7f193dc74780>,\n",
       " <matplotlib.axis.XTick at 0x7f193dcb0be0>,\n",
       " <matplotlib.axis.XTick at 0x7f193dc74e80>,\n",
       " <matplotlib.axis.XTick at 0x7f193dc7e550>,\n",
       " <matplotlib.axis.XTick at 0x7f193dc7eac8>,\n",
       " <matplotlib.axis.XTick at 0x7f193dc830b8>,\n",
       " <matplotlib.axis.XTick at 0x7f193dc835f8>,\n",
       " <matplotlib.axis.XTick at 0x7f193dc83b70>,\n",
       " <matplotlib.axis.XTick at 0x7f193dc8c160>]"
      ]
     },
     "execution_count": 31,
     "metadata": {},
     "output_type": "execute_result"
    },
    {
     "data": {
      "image/png": "[encoded data removed]",
      "text/plain": [
       "<Figure size 576x432 with 1 Axes>"
      ]
     },
     "metadata": {
      "needs_background": "light"
     },
     "output_type": "display_data"
    }
   ],
   "source": [
    "fig, ax = plt.subplots(figsize=(8,6))\n",
    "sns.distplot(covered_len, kde=False, ax=ax, bins=[ i for i in range(24) ], hist_kws={\"linewidth\": 1, \"facecolor\":'blue', 'edgecolor':'white'})\n",
    "ax.set_xticks([ i*2 for i in range(13) ])"
   ]
  },
  {
   "cell_type": "code",
   "execution_count": null,
   "metadata": {},
   "outputs": [],
   "source": []
  },
  {
   "cell_type": "code",
   "execution_count": null,
   "metadata": {},
   "outputs": [],
   "source": []
  },
  {
   "cell_type": "code",
   "execution_count": 32,
   "metadata": {},
   "outputs": [
    {
     "data": {
      "text/plain": [
       "100"
      ]
     },
     "execution_count": 32,
     "metadata": {},
     "output_type": "execute_result"
    }
   ],
   "source": [
    "len(df_seven)"
   ]
  },
  {
   "cell_type": "code",
   "execution_count": 33,
   "metadata": {},
   "outputs": [],
   "source": [
    "dis3, iss3 = tree.query(pts2, 2)\n",
    "dis3b = [ d[1] for d in dis3 ]"
   ]
  },
  {
   "cell_type": "code",
   "execution_count": 34,
   "metadata": {},
   "outputs": [],
   "source": [
    "iss3b = [ d[1] for d in iss3 ]"
   ]
  },
  {
   "cell_type": "code",
   "execution_count": 35,
   "metadata": {},
   "outputs": [],
   "source": [
    "mdists3 = []\n",
    "for i in range(len(iss3b)):\n",
    "    seven = df_seven.iloc[iss3b[i]]\n",
    "    seven_x, seven_y = seven['X'], seven['Y']\n",
    "    seven2 = df_seven.iloc[i]\n",
    "    seven2_x, seven2_y = seven2['X'], seven2['Y']\n",
    "    md = abs(seven2_x-seven_x)+abs(seven2_y-seven_y)\n",
    "    mdists3.append(md)"
   ]
  },
  {
   "cell_type": "code",
   "execution_count": 36,
   "metadata": {},
   "outputs": [
    {
     "data": {
      "text/plain": [
       "<matplotlib.axes._subplots.AxesSubplot at 0x7f193dc2cc50>"
      ]
     },
     "execution_count": 36,
     "metadata": {},
     "output_type": "execute_result"
    },
    {
     "data": {
      "image/png": "[encoded data removed]",
      "text/plain": [
       "<Figure size 576x432 with 1 Axes>"
      ]
     },
     "metadata": {
      "needs_background": "light"
     },
     "output_type": "display_data"
    }
   ],
   "source": [
    "fig, ax = plt.subplots(figsize=(8,6))\n",
    "sns.distplot(mdists3, kde=False, ax=ax)\n",
    "#ax.axvline(x=45*8, ls=':', color='grey')"
   ]
  },
  {
   "cell_type": "code",
   "execution_count": null,
   "metadata": {},
   "outputs": [],
   "source": []
  },
  {
   "cell_type": "code",
   "execution_count": null,
   "metadata": {},
   "outputs": [],
   "source": []
  },
  {
   "cell_type": "code",
   "execution_count": 41,
   "metadata": {},
   "outputs": [
    {
     "data": {
      "image/png": "[encoded data removed]",
      "text/plain": [
       "<Figure size 1296x288 with 3 Axes>"
      ]
     },
     "metadata": {
      "needs_background": "light"
     },
     "output_type": "display_data"
    }
   ],
   "source": [
    "fig, axs = plt.subplots(1, 3, figsize=(18, 4))\n",
    "\n",
    "sns.distplot(mdists2, bins=[ i*45 for i in range(9) ], kde=False, ax=axs[0], hist_kws={\"linewidth\": 1, \"facecolor\":'blue', 'edgecolor':'white', 'align':'mid'})\n",
    "axs[0].set_xlim([0, 360])\n",
    "axs[0].set_xticks([ i*45 for i in range(0,9) ])\n",
    "#axs[0].set_xticklabels(list(range(1,9)))\n",
    "\n",
    "axs[0].set_xlabel('Manhattan Distance (m)', fontsize=12)\n",
    "axs[0].set_ylabel('Frequency', fontsize=12)\n",
    "\n",
    "\n",
    "sns.distplot(covered_len, kde=False, ax=axs[1], bins=[ i for i in range(24) ], hist_kws={\"linewidth\": 1, \"facecolor\":'blue', 'edgecolor':'white', 'align':'left'})\n",
    "axs[1].set_xticks([ i*2 for i in range(13) ])\n",
    "axs[1].set_xlabel('No. case per AED', fontsize=12)\n",
    "axs[1].set_ylabel('Frequency', fontsize=12)\n",
    "axs[1].set_xlim([-1, 24])\n",
    "\n",
    "sns.distplot(mdists3, kde=False, ax=axs[2], bins=[ 180*i for i in range(23) ], hist_kws={\"linewidth\": 1, \"facecolor\":'blue', 'edgecolor':'white'})\n",
    "axs[2].set_xlabel('Manhattan Distance (m)', fontsize=12)\n",
    "axs[2].set_ylabel('Frequency', fontsize=12)\n",
    "axs[2].set_xlim([0, 3500])\n",
    "axs[2].set_xticks([ 360*i for i in range(11) ])\n",
    "\n",
    "labs = 'abc'\n",
    "labs2 = ['Distance to nearest AED from \\n     each covered OHCA case', 'Covered OHCA cases per 7-11 AED', 'Distance between nearest pair of 7-11 AEDs']\n",
    "i = 0\n",
    "for ax in axs:\n",
    "    ax.set_title('({}) {}'.format(labs[i], labs2[i]), loc='left', fontsize=14)\n",
    "    i+=1\n",
    "\n",
    "plt.tight_layout()\n",
    "plt.savefig('new_distribution_figure.png', bbox_to_inches='tight', dpi=150)"
   ]
  },
  {
   "cell_type": "code",
   "execution_count": null,
   "metadata": {},
   "outputs": [],
   "source": []
  },
  {
   "cell_type": "code",
   "execution_count": null,
   "metadata": {},
   "outputs": [],
   "source": []
  },
  {
   "cell_type": "code",
   "execution_count": 112,
   "metadata": {},
   "outputs": [
    {
     "data": {
      "text/plain": [
       "(202.63765432100104, 89.44813957776618)"
      ]
     },
     "execution_count": 112,
     "metadata": {},
     "output_type": "execute_result"
    }
   ],
   "source": [
    "np.mean(mdists2), np.std(mdists2)"
   ]
  },
  {
   "cell_type": "code",
   "execution_count": 114,
   "metadata": {},
   "outputs": [
    {
     "data": {
      "text/plain": [
       "(4.503058984911134, 1.987736435061471)"
      ]
     },
     "execution_count": 114,
     "metadata": {},
     "output_type": "execute_result"
    }
   ],
   "source": [
    "np.mean([m/45. for m in mdists2]), np.std([m/45. for m in mdists2])"
   ]
  },
  {
   "cell_type": "code",
   "execution_count": 110,
   "metadata": {},
   "outputs": [
    {
     "data": {
      "text/plain": [
       "(9.33, 4.076898330839267, 9.0)"
      ]
     },
     "execution_count": 110,
     "metadata": {},
     "output_type": "execute_result"
    }
   ],
   "source": [
    "np.mean(covered_len), np.std(covered_len), np.median(covered_len)"
   ]
  },
  {
   "cell_type": "code",
   "execution_count": 116,
   "metadata": {},
   "outputs": [
    {
     "data": {
      "text/plain": [
       "(869.128999999963, 403.24165590748026)"
      ]
     },
     "execution_count": 116,
     "metadata": {},
     "output_type": "execute_result"
    }
   ],
   "source": [
    "np.mean(mdists3), np.std(mdists3)"
   ]
  },
  {
   "cell_type": "code",
   "execution_count": null,
   "metadata": {},
   "outputs": [],
   "source": []
  }
 ],
 "metadata": {
  "kernelspec": {
   "display_name": "Python 3",
   "language": "python",
   "name": "python3"
  },
  "language_info": {
   "codemirror_mode": {
    "name": "ipython",
    "version": 3
   },
   "file_extension": ".py",
   "mimetype": "text/x-python",
   "name": "python",
   "nbconvert_exporter": "python",
   "pygments_lexer": "ipython3",
   "version": "3.6.8"
  }
 },
 "nbformat": 4,
 "nbformat_minor": 4
}
