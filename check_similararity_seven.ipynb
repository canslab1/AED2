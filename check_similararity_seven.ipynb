{
 "cells": [
  {
   "cell_type": "code",
   "execution_count": 89,
   "metadata": {},
   "outputs": [],
   "source": [
    "import os\n",
    "import pandas as pd\n",
    "import geopandas as gpd\n",
    "import matplotlib.pyplot as plt\n",
    "from matplotlib_scalebar.scalebar import ScaleBar\n",
    "import seaborn as sns"
   ]
  },
  {
   "cell_type": "code",
   "execution_count": 2,
   "metadata": {},
   "outputs": [
    {
     "data": {
      "text/plain": [
       "['result_0 (0.305425)',\n",
       " 'result_1',\n",
       " 'result_10 (0.306609)',\n",
       " 'result_11',\n",
       " 'result_12 (0.306715)',\n",
       " 'result_13 (0.305309)',\n",
       " 'result_14',\n",
       " 'result_15 (0.306592)',\n",
       " 'result_16 (0.305776)',\n",
       " 'result_17 (0.305067)']"
      ]
     },
     "execution_count": 2,
     "metadata": {},
     "output_type": "execute_result"
    }
   ],
   "source": [
    "basedir = 'results'\n",
    "res_dirs = sorted(os.listdir(basedir))\n",
    "res_dirs[:10]"
   ]
  },
  {
   "cell_type": "code",
   "execution_count": 3,
   "metadata": {},
   "outputs": [],
   "source": [
    "max50 = ['k', 'g', '12', 'y', '10', '15', 'd', 'j', '25', '16', '24', 'r', '28', 'b', 'n', 's', '0', '30', '22', '27', '13', '23', '9', 'a', '29', 'o', 'z', '17', 'u', '11', '20', 'v', 't', '4', 'l', 'p', 'h', '3', '8', '26', '7', 'm', '18', '21', 'e', '14', '5', 'q', 'i', 'x']"
   ]
  },
  {
   "cell_type": "code",
   "execution_count": 4,
   "metadata": {},
   "outputs": [],
   "source": [
    "res_dirs_max50 = ['result_k (0.306982 max)',\n",
    " 'result_g (0.306776)',\n",
    " 'result_12 (0.306715)',\n",
    " 'result_y (0.306664)',\n",
    " 'result_10 (0.306609)',\n",
    " 'result_15 (0.306592)',\n",
    " 'result_d (0.306097)',\n",
    " 'result_j (0.305996)',\n",
    " 'result_25 (0.305992)',\n",
    " 'result_16 (0.305776)',\n",
    " 'result_24 (0.305634)',\n",
    " 'result_r (0.305616)',\n",
    " 'result_28 (0.30554)',\n",
    " 'result_b (0.305491)',\n",
    " 'result_n',\n",
    " 'result_s (0.305434)',\n",
    " 'result_0 (0.305425)',\n",
    " 'result_30 (0.30542)',\n",
    " 'result_22 (0.305402)',\n",
    " 'result_27 (0.305357)',\n",
    " 'result_13 (0.305309)',\n",
    " 'result_23 (0.305302)',\n",
    " 'result_9 (0.30528)',\n",
    " 'result_a',\n",
    " 'result_29 (0.305168)',\n",
    " 'result_o',\n",
    " 'result_z (0.305069)',\n",
    " 'result_17 (0.305067)',\n",
    " 'result_u (0.305035)',\n",
    " 'result_11',\n",
    " 'result_20',\n",
    " 'result_v',\n",
    " 'result_t',\n",
    " 'result_4',\n",
    " 'result_l',\n",
    " 'result_p',\n",
    " 'result_h',\n",
    " 'result_3',\n",
    " 'result_8',\n",
    " 'result_26',\n",
    " 'result_7',\n",
    " 'result_m',\n",
    " 'result_18',\n",
    " 'result_21',\n",
    " 'result_e',\n",
    " 'result_14',\n",
    " 'result_5',\n",
    " 'result_q',\n",
    " 'result_i',\n",
    " 'result_x']"
   ]
  },
  {
   "cell_type": "code",
   "execution_count": 5,
   "metadata": {},
   "outputs": [],
   "source": [
    "tar_file_4 = 'file_4.txt' # index of selected seven\n",
    "tar_file_5 = 'file_5.txt' # coordinate of selected seven"
   ]
  },
  {
   "cell_type": "code",
   "execution_count": 18,
   "metadata": {},
   "outputs": [],
   "source": [
    "seven_dict = {}\n",
    "for rid, rdir in zip(max50, res_dirs_max50):\n",
    "    rdpath = os.path.join(basedir, rdir)\n",
    "    f4path = os.path.join(rdpath, tar_file_4)\n",
    "    #df = pd.read_csv(f4path, sep='\\t')\n",
    "    with open(f4path, 'r') as fread:\n",
    "        sevens = fread.readline().strip().split('\\t')[:100]\n",
    "    sevens = sorted([ int(s) for s in sevens ])\n",
    "    #print(sevens)\n",
    "    seven_dict[rid] = sevens\n",
    "    #print(df.head())\n",
    "    #break"
   ]
  },
  {
   "cell_type": "code",
   "execution_count": 19,
   "metadata": {},
   "outputs": [],
   "source": [
    "seven_count = {}\n",
    "for rid, sevens in seven_dict.items():\n",
    "    for s in sevens:\n",
    "        if not(s in seven_count):\n",
    "            seven_count[s] = 0\n",
    "        seven_count[s]+=1\n"
   ]
  },
  {
   "cell_type": "code",
   "execution_count": 20,
   "metadata": {},
   "outputs": [
    {
     "data": {
      "text/plain": [
       "166"
      ]
     },
     "execution_count": 20,
     "metadata": {},
     "output_type": "execute_result"
    }
   ],
   "source": [
    "len(seven_count)"
   ]
  },
  {
   "cell_type": "code",
   "execution_count": 22,
   "metadata": {},
   "outputs": [],
   "source": [
    "seven_list_count = sorted([ (c,s) for s,c in seven_count.items() ], reverse=True)"
   ]
  },
  {
   "cell_type": "code",
   "execution_count": 23,
   "metadata": {},
   "outputs": [
    {
     "data": {
      "text/plain": [
       "[(50, 640),\n",
       " (50, 629),\n",
       " (50, 626),\n",
       " (50, 616),\n",
       " (50, 605),\n",
       " (50, 598),\n",
       " (50, 585),\n",
       " (50, 582),\n",
       " (50, 571),\n",
       " (50, 567),\n",
       " (50, 565),\n",
       " (50, 552),\n",
       " (50, 499),\n",
       " (50, 497),\n",
       " (50, 475),\n",
       " (50, 474),\n",
       " (50, 471),\n",
       " (50, 468),\n",
       " (50, 458),\n",
       " (50, 450),\n",
       " (50, 445),\n",
       " (50, 439),\n",
       " (50, 423),\n",
       " (50, 413),\n",
       " (50, 410),\n",
       " (50, 406),\n",
       " (50, 400),\n",
       " (50, 396),\n",
       " (50, 385),\n",
       " (50, 373),\n",
       " (50, 370),\n",
       " (50, 368),\n",
       " (50, 356),\n",
       " (50, 335),\n",
       " (50, 327),\n",
       " (50, 310),\n",
       " (50, 241),\n",
       " (50, 226),\n",
       " (50, 191),\n",
       " (50, 183),\n",
       " (50, 178),\n",
       " (50, 147),\n",
       " (50, 130),\n",
       " (50, 96),\n",
       " (50, 78),\n",
       " (50, 76),\n",
       " (50, 74),\n",
       " (50, 42),\n",
       " (50, 36),\n",
       " (49, 659),\n",
       " (49, 603),\n",
       " (49, 601),\n",
       " (49, 541),\n",
       " (49, 528),\n",
       " (49, 336),\n",
       " (49, 60),\n",
       " (49, 56),\n",
       " (49, 38),\n",
       " (49, 1),\n",
       " (48, 639),\n",
       " (48, 420),\n",
       " (48, 388),\n",
       " (48, 279),\n",
       " (48, 262),\n",
       " (48, 221),\n",
       " (47, 673),\n",
       " (47, 503),\n",
       " (46, 435),\n",
       " (46, 367),\n",
       " (46, 121),\n",
       " (45, 258),\n",
       " (45, 203),\n",
       " (45, 118),\n",
       " (44, 479),\n",
       " (44, 144),\n",
       " (43, 637),\n",
       " (43, 535),\n",
       " (43, 269),\n",
       " (39, 614),\n",
       " (39, 570),\n",
       " (39, 85),\n",
       " (39, 83),\n",
       " (37, 184),\n",
       " (36, 672),\n",
       " (34, 643),\n",
       " (34, 632),\n",
       " (33, 663),\n",
       " (33, 510),\n",
       " (33, 109),\n",
       " (33, 19),\n",
       " (32, 158),\n",
       " (32, 138),\n",
       " (31, 437),\n",
       " (31, 106),\n",
       " (30, 451),\n",
       " (30, 103),\n",
       " (29, 303),\n",
       " (28, 14),\n",
       " (25, 592),\n",
       " (21, 23),\n",
       " (21, 12),\n",
       " (20, 457),\n",
       " (20, 425),\n",
       " (18, 171),\n",
       " (18, 137),\n",
       " (18, 112),\n",
       " (17, 342),\n",
       " (17, 170),\n",
       " (17, 3),\n",
       " (16, 662),\n",
       " (16, 655),\n",
       " (16, 544),\n",
       " (16, 305),\n",
       " (15, 276),\n",
       " (12, 376),\n",
       " (11, 613),\n",
       " (11, 576),\n",
       " (11, 498),\n",
       " (11, 296),\n",
       " (11, 99),\n",
       " (11, 87),\n",
       " (11, 84),\n",
       " (10, 516),\n",
       " (9, 291),\n",
       " (8, 185),\n",
       " (7, 674),\n",
       " (7, 638),\n",
       " (7, 522),\n",
       " (7, 199),\n",
       " (5, 210),\n",
       " (5, 111),\n",
       " (4, 650),\n",
       " (4, 635),\n",
       " (4, 441),\n",
       " (4, 351),\n",
       " (4, 189),\n",
       " (4, 142),\n",
       " (3, 652),\n",
       " (3, 649),\n",
       " (3, 520),\n",
       " (3, 517),\n",
       " (3, 220),\n",
       " (2, 675),\n",
       " (2, 421),\n",
       " (2, 390),\n",
       " (2, 267),\n",
       " (2, 266),\n",
       " (2, 215),\n",
       " (2, 149),\n",
       " (2, 143),\n",
       " (1, 668),\n",
       " (1, 661),\n",
       " (1, 600),\n",
       " (1, 594),\n",
       " (1, 526),\n",
       " (1, 515),\n",
       " (1, 349),\n",
       " (1, 326),\n",
       " (1, 277),\n",
       " (1, 235),\n",
       " (1, 174),\n",
       " (1, 58),\n",
       " (1, 47),\n",
       " (1, 44),\n",
       " (1, 20),\n",
       " (1, 13)]"
      ]
     },
     "execution_count": 23,
     "metadata": {},
     "output_type": "execute_result"
    }
   ],
   "source": [
    "seven_list_count"
   ]
  },
  {
   "cell_type": "code",
   "execution_count": 24,
   "metadata": {},
   "outputs": [],
   "source": [
    "count_seven = {}\n",
    "for s,c in seven_count.items():\n",
    "    if not(c in count_seven):\n",
    "        count_seven[c] = []\n",
    "    count_seven[c].append(s)"
   ]
  },
  {
   "cell_type": "code",
   "execution_count": 35,
   "metadata": {},
   "outputs": [
    {
     "name": "stdout",
     "output_type": "stream",
     "text": [
      "50 49\n",
      "49 10\n",
      "48 6\n",
      "47 2\n",
      "46 3\n",
      "45 3\n",
      "44 2\n",
      "43 3\n",
      "39 4\n",
      "37 1\n",
      "36 1\n",
      "34 2\n",
      "33 4\n",
      "32 2\n",
      "31 2\n",
      "30 2\n",
      "29 1\n",
      "28 1\n",
      "25 1\n",
      "21 2\n",
      "20 2\n",
      "18 3\n",
      "17 3\n",
      "16 4\n",
      "15 1\n",
      "12 1\n",
      "11 7\n",
      "10 1\n",
      "9 1\n",
      "8 1\n",
      "7 4\n",
      "5 2\n",
      "4 6\n",
      "3 5\n",
      "2 8\n",
      "1 16\n"
     ]
    },
    {
     "data": {
      "text/plain": [
       "<BarContainer object of 36 artists>"
      ]
     },
     "execution_count": 35,
     "metadata": {},
     "output_type": "execute_result"
    },
    {
     "data": {
      "image/png": "[encoded data removed]",
      "text/plain": [
       "<Figure size 432x288 with 1 Axes>"
      ]
     },
     "metadata": {
      "needs_background": "light"
     },
     "output_type": "display_data"
    }
   ],
   "source": [
    "count_seven_list = sorted([ (c,ss) for c,ss in count_seven.items() ], reverse=True)\n",
    "xs = []\n",
    "ys = []\n",
    "for c,ss in count_seven_list:\n",
    "    print(c, len(ss))\n",
    "    xs.append(c)\n",
    "    ys.append(len(ss))\n",
    "plt.bar(xs, ys)"
   ]
  },
  {
   "cell_type": "code",
   "execution_count": 37,
   "metadata": {},
   "outputs": [
    {
     "data": {
      "text/plain": [
       "<matplotlib.lines.Line2D at 0x7ffaff4f3780>"
      ]
     },
     "execution_count": 37,
     "metadata": {},
     "output_type": "execute_result"
    },
    {
     "data": {
      "image/png": "[encoded data removed]",
      "text/plain": [
       "<Figure size 576x432 with 1 Axes>"
      ]
     },
     "metadata": {
      "needs_background": "light"
     },
     "output_type": "display_data"
    }
   ],
   "source": [
    "fig, ax = plt.subplots(figsize=(8,6))\n",
    "ax.bar(xs, ys)\n",
    "ax.set_xlabel('Appear times in final result (out of 50 run times)')\n",
    "ax.set_ylabel('No. store')\n",
    "ax.axhline(y=49, ls=':', c='grey')"
   ]
  },
  {
   "cell_type": "code",
   "execution_count": 39,
   "metadata": {},
   "outputs": [],
   "source": [
    "bins = [10, 20, 30, 40, 50]\n",
    "freq = [ 0,  0,  0,  0,  0]\n",
    "for c,ss in count_seven_list:\n",
    "    #print(c, len(ss))\n",
    "    if c<=10:\n",
    "        freq[0]+=len(ss)\n",
    "    elif c<=20:\n",
    "        freq[1]+=len(ss)\n",
    "    elif c<=30:\n",
    "        freq[2]+=len(ss)\n",
    "    elif c<=40:\n",
    "        freq[3]+=len(ss)\n",
    "    elif c<=50:\n",
    "        freq[4]+=len(ss)\n",
    "    else:\n",
    "        print(c, len(ss))"
   ]
  },
  {
   "cell_type": "code",
   "execution_count": 40,
   "metadata": {},
   "outputs": [
    {
     "data": {
      "text/plain": [
       "[44, 21, 7, 16, 78]"
      ]
     },
     "execution_count": 40,
     "metadata": {},
     "output_type": "execute_result"
    }
   ],
   "source": [
    "freq"
   ]
  },
  {
   "cell_type": "code",
   "execution_count": 41,
   "metadata": {},
   "outputs": [
    {
     "data": {
      "text/plain": [
       "166"
      ]
     },
     "execution_count": 41,
     "metadata": {},
     "output_type": "execute_result"
    }
   ],
   "source": [
    "sum(freq)"
   ]
  },
  {
   "cell_type": "code",
   "execution_count": 42,
   "metadata": {},
   "outputs": [
    {
     "data": {
      "text/plain": [
       "[44, 21, 7, 16, 78]"
      ]
     },
     "execution_count": 42,
     "metadata": {},
     "output_type": "execute_result"
    }
   ],
   "source": [
    "bins = [10, 20, 30, 40, 50]\n",
    "freq = [ 0 for i in range(len(bins)) ]\n",
    "for c,ss in count_seven_list:\n",
    "    #print(c, len(ss))\n",
    "    done = False\n",
    "    i = 0\n",
    "    while not done:\n",
    "        if c<=bins[i]:\n",
    "            freq[i]+=len(ss)\n",
    "            done = True\n",
    "        i+=1\n",
    "freq"
   ]
  },
  {
   "cell_type": "code",
   "execution_count": 43,
   "metadata": {},
   "outputs": [
    {
     "data": {
      "text/plain": [
       "[37, 7, 9, 12, 3, 4, 10, 6, 8, 70]"
      ]
     },
     "execution_count": 43,
     "metadata": {},
     "output_type": "execute_result"
    }
   ],
   "source": [
    "bins = [5, 10, 15, 20, 25, 30, 35, 40, 45, 50]\n",
    "freq = [ 0 for i in range(len(bins)) ]\n",
    "for c,ss in count_seven_list:\n",
    "    #print(c, len(ss))\n",
    "    done = False\n",
    "    i = 0\n",
    "    while not done:\n",
    "        if c<=bins[i]:\n",
    "            freq[i]+=len(ss)\n",
    "            done = True\n",
    "        i+=1\n",
    "freq"
   ]
  },
  {
   "cell_type": "code",
   "execution_count": 44,
   "metadata": {},
   "outputs": [
    {
     "data": {
      "text/plain": [
       "['1~5',\n",
       " '6~10',\n",
       " '11~15',\n",
       " '16~20',\n",
       " '21~25',\n",
       " '26~30',\n",
       " '31~35',\n",
       " '36~40',\n",
       " '41~45',\n",
       " '46~50']"
      ]
     },
     "execution_count": 44,
     "metadata": {},
     "output_type": "execute_result"
    }
   ],
   "source": [
    "bins2 = [ '{}~{}'.format(str(bins[i]-4), str(bins[i])) for i in range(len(bins)) ]\n",
    "bins2"
   ]
  },
  {
   "cell_type": "code",
   "execution_count": 52,
   "metadata": {},
   "outputs": [],
   "source": [
    "pers = [ '{}%~{}%'.format(str(i*10), str((i+1)*10)) for i in range(len(bins))]"
   ]
  },
  {
   "cell_type": "code",
   "execution_count": 54,
   "metadata": {},
   "outputs": [
    {
     "data": {
      "text/html": [
       "<div>\n",
       "<style scoped>\n",
       "    .dataframe tbody tr th:only-of-type {\n",
       "        vertical-align: middle;\n",
       "    }\n",
       "\n",
       "    .dataframe tbody tr th {\n",
       "        vertical-align: top;\n",
       "    }\n",
       "\n",
       "    .dataframe thead th {\n",
       "        text-align: right;\n",
       "    }\n",
       "</style>\n",
       "<table border=\"1\" class=\"dataframe\">\n",
       "  <thead>\n",
       "    <tr style=\"text-align: right;\">\n",
       "      <th></th>\n",
       "      <th>bins</th>\n",
       "      <th>percentage</th>\n",
       "      <th>no_store</th>\n",
       "    </tr>\n",
       "  </thead>\n",
       "  <tbody>\n",
       "    <tr>\n",
       "      <th>0</th>\n",
       "      <td>1~5</td>\n",
       "      <td>0%~10%</td>\n",
       "      <td>37</td>\n",
       "    </tr>\n",
       "    <tr>\n",
       "      <th>1</th>\n",
       "      <td>6~10</td>\n",
       "      <td>10%~20%</td>\n",
       "      <td>7</td>\n",
       "    </tr>\n",
       "    <tr>\n",
       "      <th>2</th>\n",
       "      <td>11~15</td>\n",
       "      <td>20%~30%</td>\n",
       "      <td>9</td>\n",
       "    </tr>\n",
       "    <tr>\n",
       "      <th>3</th>\n",
       "      <td>16~20</td>\n",
       "      <td>30%~40%</td>\n",
       "      <td>12</td>\n",
       "    </tr>\n",
       "    <tr>\n",
       "      <th>4</th>\n",
       "      <td>21~25</td>\n",
       "      <td>40%~50%</td>\n",
       "      <td>3</td>\n",
       "    </tr>\n",
       "    <tr>\n",
       "      <th>5</th>\n",
       "      <td>26~30</td>\n",
       "      <td>50%~60%</td>\n",
       "      <td>4</td>\n",
       "    </tr>\n",
       "    <tr>\n",
       "      <th>6</th>\n",
       "      <td>31~35</td>\n",
       "      <td>60%~70%</td>\n",
       "      <td>10</td>\n",
       "    </tr>\n",
       "    <tr>\n",
       "      <th>7</th>\n",
       "      <td>36~40</td>\n",
       "      <td>70%~80%</td>\n",
       "      <td>6</td>\n",
       "    </tr>\n",
       "    <tr>\n",
       "      <th>8</th>\n",
       "      <td>41~45</td>\n",
       "      <td>80%~90%</td>\n",
       "      <td>8</td>\n",
       "    </tr>\n",
       "    <tr>\n",
       "      <th>9</th>\n",
       "      <td>46~50</td>\n",
       "      <td>90%~100%</td>\n",
       "      <td>70</td>\n",
       "    </tr>\n",
       "    <tr>\n",
       "      <th>10</th>\n",
       "      <td>-</td>\n",
       "      <td>-</td>\n",
       "      <td>166</td>\n",
       "    </tr>\n",
       "  </tbody>\n",
       "</table>\n",
       "</div>"
      ],
      "text/plain": [
       "     bins percentage  no_store\n",
       "0     1~5     0%~10%        37\n",
       "1    6~10    10%~20%         7\n",
       "2   11~15    20%~30%         9\n",
       "3   16~20    30%~40%        12\n",
       "4   21~25    40%~50%         3\n",
       "5   26~30    50%~60%         4\n",
       "6   31~35    60%~70%        10\n",
       "7   36~40    70%~80%         6\n",
       "8   41~45    80%~90%         8\n",
       "9   46~50   90%~100%        70\n",
       "10      -          -       166"
      ]
     },
     "execution_count": 54,
     "metadata": {},
     "output_type": "execute_result"
    }
   ],
   "source": [
    "df_count = pd.DataFrame.from_dict(dict(bins=bins2+['-'], percentage=pers+['-'], no_store=freq+[sum(freq)]))\n",
    "df_count"
   ]
  },
  {
   "cell_type": "code",
   "execution_count": null,
   "metadata": {},
   "outputs": [],
   "source": []
  },
  {
   "cell_type": "code",
   "execution_count": null,
   "metadata": {},
   "outputs": [],
   "source": []
  },
  {
   "cell_type": "code",
   "execution_count": 55,
   "metadata": {},
   "outputs": [
    {
     "name": "stdout",
     "output_type": "stream",
     "text": [
      "128\n",
      "10 74\n",
      "9 11\n",
      "8 8\n",
      "7 2\n",
      "6 1\n",
      "5 6\n",
      "4 3\n",
      "3 1\n",
      "2 10\n",
      "1 12\n"
     ]
    },
    {
     "data": {
      "text/plain": [
       "<BarContainer object of 10 artists>"
      ]
     },
     "execution_count": 55,
     "metadata": {},
     "output_type": "execute_result"
    },
    {
     "data": {
      "image/png": "[encoded data removed]",
      "text/plain": [
       "<Figure size 432x288 with 1 Axes>"
      ]
     },
     "metadata": {
      "needs_background": "light"
     },
     "output_type": "display_data"
    }
   ],
   "source": [
    "seven_dict2 = {}\n",
    "top = 10\n",
    "for rid, rdir in zip(max50[:top], res_dirs_max50[:top]):\n",
    "    rdpath = os.path.join(basedir, rdir)\n",
    "    f4path = os.path.join(rdpath, tar_file_4)\n",
    "    #df = pd.read_csv(f4path, sep='\\t')\n",
    "    with open(f4path, 'r') as fread:\n",
    "        sevens = fread.readline().strip().split('\\t')[:100]\n",
    "    sevens = sorted([ int(s) for s in sevens ])\n",
    "    #print(sevens)\n",
    "    seven_dict2[rid] = sevens\n",
    "    #print(df.head())\n",
    "    #break\n",
    "\n",
    "seven_count2 = {}\n",
    "for rid, sevens in seven_dict2.items():\n",
    "    for s in sevens:\n",
    "        if not(s in seven_count2):\n",
    "            seven_count2[s] = 0\n",
    "        seven_count2[s]+=1\n",
    "print(len(seven_count2))\n",
    "\n",
    "count_seven2 = {}\n",
    "for s,c in seven_count2.items():\n",
    "    if not(c in count_seven2):\n",
    "        count_seven2[c] = []\n",
    "    count_seven2[c].append(s)\n",
    "    \n",
    "count_seven_list2 = sorted([ (c,ss) for c,ss in count_seven2.items() ], reverse=True)\n",
    "xs2 = []\n",
    "ys2 = []\n",
    "for c,ss in count_seven_list2:\n",
    "    print(c, len(ss))\n",
    "    xs2.append(c)\n",
    "    ys2.append(len(ss))\n",
    "plt.bar(xs2, ys2)"
   ]
  },
  {
   "cell_type": "code",
   "execution_count": 57,
   "metadata": {},
   "outputs": [
    {
     "data": {
      "text/html": [
       "<div>\n",
       "<style scoped>\n",
       "    .dataframe tbody tr th:only-of-type {\n",
       "        vertical-align: middle;\n",
       "    }\n",
       "\n",
       "    .dataframe tbody tr th {\n",
       "        vertical-align: top;\n",
       "    }\n",
       "\n",
       "    .dataframe thead th {\n",
       "        text-align: right;\n",
       "    }\n",
       "</style>\n",
       "<table border=\"1\" class=\"dataframe\">\n",
       "  <thead>\n",
       "    <tr style=\"text-align: right;\">\n",
       "      <th></th>\n",
       "      <th>bins</th>\n",
       "      <th>no_store</th>\n",
       "    </tr>\n",
       "  </thead>\n",
       "  <tbody>\n",
       "    <tr>\n",
       "      <th>0</th>\n",
       "      <td>10</td>\n",
       "      <td>74</td>\n",
       "    </tr>\n",
       "    <tr>\n",
       "      <th>1</th>\n",
       "      <td>9</td>\n",
       "      <td>11</td>\n",
       "    </tr>\n",
       "    <tr>\n",
       "      <th>2</th>\n",
       "      <td>8</td>\n",
       "      <td>8</td>\n",
       "    </tr>\n",
       "    <tr>\n",
       "      <th>3</th>\n",
       "      <td>7</td>\n",
       "      <td>2</td>\n",
       "    </tr>\n",
       "    <tr>\n",
       "      <th>4</th>\n",
       "      <td>6</td>\n",
       "      <td>1</td>\n",
       "    </tr>\n",
       "    <tr>\n",
       "      <th>5</th>\n",
       "      <td>5</td>\n",
       "      <td>6</td>\n",
       "    </tr>\n",
       "    <tr>\n",
       "      <th>6</th>\n",
       "      <td>4</td>\n",
       "      <td>3</td>\n",
       "    </tr>\n",
       "    <tr>\n",
       "      <th>7</th>\n",
       "      <td>3</td>\n",
       "      <td>1</td>\n",
       "    </tr>\n",
       "    <tr>\n",
       "      <th>8</th>\n",
       "      <td>2</td>\n",
       "      <td>10</td>\n",
       "    </tr>\n",
       "    <tr>\n",
       "      <th>9</th>\n",
       "      <td>1</td>\n",
       "      <td>12</td>\n",
       "    </tr>\n",
       "    <tr>\n",
       "      <th>10</th>\n",
       "      <td>-</td>\n",
       "      <td>128</td>\n",
       "    </tr>\n",
       "  </tbody>\n",
       "</table>\n",
       "</div>"
      ],
      "text/plain": [
       "   bins  no_store\n",
       "0    10        74\n",
       "1     9        11\n",
       "2     8         8\n",
       "3     7         2\n",
       "4     6         1\n",
       "5     5         6\n",
       "6     4         3\n",
       "7     3         1\n",
       "8     2        10\n",
       "9     1        12\n",
       "10    -       128"
      ]
     },
     "execution_count": 57,
     "metadata": {},
     "output_type": "execute_result"
    }
   ],
   "source": [
    "df_count2 = pd.DataFrame.from_dict(dict(bins=xs2+['-'], no_store=ys2+[sum(ys2)]))\n",
    "df_count2"
   ]
  },
  {
   "cell_type": "code",
   "execution_count": 60,
   "metadata": {},
   "outputs": [
    {
     "data": {
      "text/plain": [
       "<matplotlib.lines.Line2D at 0x7ffaff2bf160>"
      ]
     },
     "execution_count": 60,
     "metadata": {},
     "output_type": "execute_result"
    },
    {
     "data": {
      "image/png": "[encoded data removed]",
      "text/plain": [
       "<Figure size 576x432 with 1 Axes>"
      ]
     },
     "metadata": {
      "needs_background": "light"
     },
     "output_type": "display_data"
    }
   ],
   "source": [
    "fig, ax = plt.subplots(figsize=(8,6))\n",
    "ax.bar(xs2, ys2)\n",
    "ax.set_xlabel('Appear times in final result (out of 50 run times)')\n",
    "ax.set_ylabel('No. store')\n",
    "ax.axhline(y=74, ls=':', c='grey')"
   ]
  },
  {
   "cell_type": "code",
   "execution_count": 67,
   "metadata": {},
   "outputs": [
    {
     "data": {
      "image/png": "[encoded data removed]",
      "text/plain": [
       "<Figure size 1152x432 with 2 Axes>"
      ]
     },
     "metadata": {
      "needs_background": "light"
     },
     "output_type": "display_data"
    }
   ],
   "source": [
    "fig, axs = plt.subplots(1,2, figsize=(16,6))\n",
    "axs[0].bar(xs, ys)\n",
    "axs[0].set_xlabel('Appear times in final result (out of 50 run times)')\n",
    "\n",
    "axs[1].bar(xs2, ys2)\n",
    "axs[1].set_xlabel('Appear times in final result (out of 10 run times)')\n",
    "\n",
    "for ax in axs:\n",
    "    ax.set_ylabel('No. store')\n"
   ]
  },
  {
   "cell_type": "code",
   "execution_count": null,
   "metadata": {},
   "outputs": [],
   "source": []
  },
  {
   "cell_type": "code",
   "execution_count": null,
   "metadata": {},
   "outputs": [],
   "source": []
  },
  {
   "cell_type": "code",
   "execution_count": 76,
   "metadata": {},
   "outputs": [
    {
     "data": {
      "text/html": [
       "<div>\n",
       "<style scoped>\n",
       "    .dataframe tbody tr th:only-of-type {\n",
       "        vertical-align: middle;\n",
       "    }\n",
       "\n",
       "    .dataframe tbody tr th {\n",
       "        vertical-align: top;\n",
       "    }\n",
       "\n",
       "    .dataframe thead th {\n",
       "        text-align: right;\n",
       "    }\n",
       "</style>\n",
       "<table border=\"1\" class=\"dataframe\">\n",
       "  <thead>\n",
       "    <tr style=\"text-align: right;\">\n",
       "      <th></th>\n",
       "      <th>x</th>\n",
       "      <th>y</th>\n",
       "    </tr>\n",
       "  </thead>\n",
       "  <tbody>\n",
       "    <tr>\n",
       "      <th>0</th>\n",
       "      <td>302884.560</td>\n",
       "      <td>2779820.925</td>\n",
       "    </tr>\n",
       "    <tr>\n",
       "      <th>1</th>\n",
       "      <td>301890.352</td>\n",
       "      <td>2779529.228</td>\n",
       "    </tr>\n",
       "    <tr>\n",
       "      <th>2</th>\n",
       "      <td>301917.484</td>\n",
       "      <td>2777746.283</td>\n",
       "    </tr>\n",
       "    <tr>\n",
       "      <th>3</th>\n",
       "      <td>302230.092</td>\n",
       "      <td>2776670.363</td>\n",
       "    </tr>\n",
       "    <tr>\n",
       "      <th>4</th>\n",
       "      <td>301427.374</td>\n",
       "      <td>2776245.833</td>\n",
       "    </tr>\n",
       "  </tbody>\n",
       "</table>\n",
       "</div>"
      ],
      "text/plain": [
       "            x            y\n",
       "0  302884.560  2779820.925\n",
       "1  301890.352  2779529.228\n",
       "2  301917.484  2777746.283\n",
       "3  302230.092  2776670.363\n",
       "4  301427.374  2776245.833"
      ]
     },
     "execution_count": 76,
     "metadata": {},
     "output_type": "execute_result"
    }
   ],
   "source": [
    "seven_x = pd.read_csv('Figure 2/711_x.txt', header=None, names='x')\n",
    "seven_y = pd.read_csv('Figure 2/711_y.txt', header=None, names='y')\n",
    "df_seven = seven_x.join(seven_y)\n",
    "df_seven.head()"
   ]
  },
  {
   "cell_type": "code",
   "execution_count": 80,
   "metadata": {},
   "outputs": [
    {
     "data": {
      "text/plain": [
       "{'x': 302884.56, 'y': 2779820.925}"
      ]
     },
     "execution_count": 80,
     "metadata": {},
     "output_type": "execute_result"
    }
   ],
   "source": [
    "dic_seven = df_seven.to_dict(orient='index')\n",
    "dic_seven[0]"
   ]
  },
  {
   "cell_type": "code",
   "execution_count": 69,
   "metadata": {},
   "outputs": [
    {
     "data": {
      "text/plain": [
       "dict_keys([49, 21, 33, 50, 39, 11, 45, 46, 32, 44, 18, 37, 48, 43, 31, 30, 47, 34, 36, 17, 28, 29, 12, 20, 8, 4, 5, 3, 7, 15, 2, 16, 9, 1, 25, 10])"
      ]
     },
     "execution_count": 69,
     "metadata": {},
     "output_type": "execute_result"
    }
   ],
   "source": [
    "count_seven.keys()"
   ]
  },
  {
   "cell_type": "code",
   "execution_count": 81,
   "metadata": {},
   "outputs": [
    {
     "data": {
      "text/plain": [
       "<matplotlib.collections.PathCollection at 0x7ffafebde940>"
      ]
     },
     "execution_count": 81,
     "metadata": {},
     "output_type": "execute_result"
    },
    {
     "data": {
      "image/png": "[encoded data removed]",
      "text/plain": [
       "<Figure size 432x288 with 1 Axes>"
      ]
     },
     "metadata": {
      "needs_background": "light"
     },
     "output_type": "display_data"
    }
   ],
   "source": [
    "loc_x = []\n",
    "loc_y = []\n",
    "for s in count_seven[50]:\n",
    "    loc_x.append(dic_seven[s]['x'])\n",
    "    loc_y.append(dic_seven[s]['y'])\n",
    "plt.scatter(loc_x, loc_y)"
   ]
  },
  {
   "cell_type": "code",
   "execution_count": 74,
   "metadata": {},
   "outputs": [
    {
     "data": {
      "text/plain": [
       "49"
      ]
     },
     "execution_count": 74,
     "metadata": {},
     "output_type": "execute_result"
    }
   ],
   "source": [
    "len(count_seven[50])"
   ]
  },
  {
   "cell_type": "code",
   "execution_count": 82,
   "metadata": {},
   "outputs": [
    {
     "data": {
      "text/plain": [
       "dict_keys([10, 4, 5, 9, 8, 2, 3, 6, 7, 1])"
      ]
     },
     "execution_count": 82,
     "metadata": {},
     "output_type": "execute_result"
    }
   ],
   "source": [
    "count_seven2.keys()"
   ]
  },
  {
   "cell_type": "code",
   "execution_count": 83,
   "metadata": {},
   "outputs": [
    {
     "data": {
      "text/plain": [
       "<matplotlib.collections.PathCollection at 0x7ffafefffc88>"
      ]
     },
     "execution_count": 83,
     "metadata": {},
     "output_type": "execute_result"
    },
    {
     "data": {
      "image/png": "[encoded data removed]",
      "text/plain": [
       "<Figure size 432x288 with 1 Axes>"
      ]
     },
     "metadata": {
      "needs_background": "light"
     },
     "output_type": "display_data"
    }
   ],
   "source": [
    "loc_x2 = []\n",
    "loc_y2 = []\n",
    "for s in count_seven2[10]:\n",
    "    loc_x2.append(dic_seven[s]['x'])\n",
    "    loc_y2.append(dic_seven[s]['y'])\n",
    "plt.scatter(loc_x2, loc_y2)"
   ]
  },
  {
   "cell_type": "code",
   "execution_count": 86,
   "metadata": {},
   "outputs": [
    {
     "name": "stdout",
     "output_type": "stream",
     "text": [
      "{}\n"
     ]
    },
    {
     "data": {
      "text/html": [
       "<div>\n",
       "<style scoped>\n",
       "    .dataframe tbody tr th:only-of-type {\n",
       "        vertical-align: middle;\n",
       "    }\n",
       "\n",
       "    .dataframe tbody tr th {\n",
       "        vertical-align: top;\n",
       "    }\n",
       "\n",
       "    .dataframe thead th {\n",
       "        text-align: right;\n",
       "    }\n",
       "</style>\n",
       "<table border=\"1\" class=\"dataframe\">\n",
       "  <thead>\n",
       "    <tr style=\"text-align: right;\">\n",
       "      <th></th>\n",
       "      <th>FID</th>\n",
       "      <th>TOWNSN</th>\n",
       "      <th>TOWNID</th>\n",
       "      <th>COUNTYNAME</th>\n",
       "      <th>TOWNNAME</th>\n",
       "      <th>geometry</th>\n",
       "    </tr>\n",
       "  </thead>\n",
       "  <tbody>\n",
       "    <tr>\n",
       "      <th>0</th>\n",
       "      <td>229</td>\n",
       "      <td>63000001</td>\n",
       "      <td>6300012</td>\n",
       "      <td>¥x¥_¥«</td>\n",
       "      <td>¥_§ë°Ï</td>\n",
       "      <td>POLYGON ((305515.531307901 2789373.75009073, 3...</td>\n",
       "    </tr>\n",
       "    <tr>\n",
       "      <th>1</th>\n",
       "      <td>230</td>\n",
       "      <td>63000002</td>\n",
       "      <td>6300011</td>\n",
       "      <td>¥x¥_¥«</td>\n",
       "      <td>¤hªL°Ï</td>\n",
       "      <td>POLYGON ((304866.468836188 2776335.50004793, 3...</td>\n",
       "    </tr>\n",
       "    <tr>\n",
       "      <th>2</th>\n",
       "      <td>231</td>\n",
       "      <td>63000003</td>\n",
       "      <td>6300010</td>\n",
       "      <td>¥x¥_¥«</td>\n",
       "      <td>¤º´ò°Ï</td>\n",
       "      <td>POLYGON ((306816.895872267 2771986.7840852, 30...</td>\n",
       "    </tr>\n",
       "    <tr>\n",
       "      <th>3</th>\n",
       "      <td>232</td>\n",
       "      <td>63000004</td>\n",
       "      <td>6300004</td>\n",
       "      <td>¥x¥_¥«</td>\n",
       "      <td>¤¤¤s°Ï</td>\n",
       "      <td>POLYGON ((301851.312440276 2774654.00004378, 3...</td>\n",
       "    </tr>\n",
       "    <tr>\n",
       "      <th>4</th>\n",
       "      <td>233</td>\n",
       "      <td>63000005</td>\n",
       "      <td>6300006</td>\n",
       "      <td>¥x¥_¥«</td>\n",
       "      <td>¤j¦P°Ï</td>\n",
       "      <td>POLYGON ((300085.906300986 2774708.25011544, 3...</td>\n",
       "    </tr>\n",
       "  </tbody>\n",
       "</table>\n",
       "</div>"
      ],
      "text/plain": [
       "   FID    TOWNSN   TOWNID COUNTYNAME TOWNNAME  \\\n",
       "0  229  63000001  6300012     ¥x¥_¥«   ¥_§ë°Ï   \n",
       "1  230  63000002  6300011     ¥x¥_¥«   ¤hªL°Ï   \n",
       "2  231  63000003  6300010     ¥x¥_¥«   ¤º´ò°Ï   \n",
       "3  232  63000004  6300004     ¥x¥_¥«   ¤¤¤s°Ï   \n",
       "4  233  63000005  6300006     ¥x¥_¥«   ¤j¦P°Ï   \n",
       "\n",
       "                                            geometry  \n",
       "0  POLYGON ((305515.531307901 2789373.75009073, 3...  \n",
       "1  POLYGON ((304866.468836188 2776335.50004793, 3...  \n",
       "2  POLYGON ((306816.895872267 2771986.7840852, 30...  \n",
       "3  POLYGON ((301851.312440276 2774654.00004378, 3...  \n",
       "4  POLYGON ((300085.906300986 2774708.25011544, 3...  "
      ]
     },
     "execution_count": 86,
     "metadata": {},
     "output_type": "execute_result"
    }
   ],
   "source": [
    "gdf = gpd.read_file('Figure 2/TWN_TOWN_COUNTYNAME_tpc.shp')\n",
    "print(gdf.crs)\n",
    "gdf.head()"
   ]
  },
  {
   "cell_type": "code",
   "execution_count": 87,
   "metadata": {},
   "outputs": [
    {
     "name": "stdout",
     "output_type": "stream",
     "text": [
      "+proj=tmerc +ellps=GRS67 +towgs84=-752,-358,-179,-.0000011698,.0000018398,.0000009822,.00002329 +lon_0=121 +x_0=250000 +k=0.9999 +to +proj=tmerc +datum=WGS84 +lon_0=121 +x_0=250000 +k=0.9999\n"
     ]
    },
    {
     "data": {
      "text/html": [
       "<div>\n",
       "<style scoped>\n",
       "    .dataframe tbody tr th:only-of-type {\n",
       "        vertical-align: middle;\n",
       "    }\n",
       "\n",
       "    .dataframe tbody tr th {\n",
       "        vertical-align: top;\n",
       "    }\n",
       "\n",
       "    .dataframe thead th {\n",
       "        text-align: right;\n",
       "    }\n",
       "</style>\n",
       "<table border=\"1\" class=\"dataframe\">\n",
       "  <thead>\n",
       "    <tr style=\"text-align: right;\">\n",
       "      <th></th>\n",
       "      <th>TOWNID</th>\n",
       "      <th>TOWNCODE</th>\n",
       "      <th>COUNTYNAME</th>\n",
       "      <th>TOWNNAME</th>\n",
       "      <th>TOWNENG</th>\n",
       "      <th>COUNTYID</th>\n",
       "      <th>COUNTYCODE</th>\n",
       "      <th>geometry</th>\n",
       "    </tr>\n",
       "  </thead>\n",
       "  <tbody>\n",
       "    <tr>\n",
       "      <th>0</th>\n",
       "      <td>V02</td>\n",
       "      <td>10014020</td>\n",
       "      <td>èºæ±ç¸£</td>\n",
       "      <td>æåé®</td>\n",
       "      <td>Chenggong Township</td>\n",
       "      <td>V</td>\n",
       "      <td>10014</td>\n",
       "      <td>POLYGON ((291116.2502699895 2568210.90427058, ...</td>\n",
       "    </tr>\n",
       "    <tr>\n",
       "      <th>1</th>\n",
       "      <td>T21</td>\n",
       "      <td>10013210</td>\n",
       "      <td>å±æ±ç¸£</td>\n",
       "      <td>ä½³å¬é</td>\n",
       "      <td>Jiadong Township</td>\n",
       "      <td>T</td>\n",
       "      <td>10013</td>\n",
       "      <td>POLYGON ((202700.1009323818 2484838.896560255,...</td>\n",
       "    </tr>\n",
       "    <tr>\n",
       "      <th>2</th>\n",
       "      <td>P13</td>\n",
       "      <td>10009130</td>\n",
       "      <td>é²æç¸£</td>\n",
       "      <td>éº¥å¯®é</td>\n",
       "      <td>Mailiao Township</td>\n",
       "      <td>P</td>\n",
       "      <td>10009</td>\n",
       "      <td>POLYGON ((178050.9925507362 2635053.871752569,...</td>\n",
       "    </tr>\n",
       "    <tr>\n",
       "      <th>3</th>\n",
       "      <td>V11</td>\n",
       "      <td>10014110</td>\n",
       "      <td>èºæ±ç¸£</td>\n",
       "      <td>ç¶ å³¶é</td>\n",
       "      <td>Lvdao Township</td>\n",
       "      <td>V</td>\n",
       "      <td>10014</td>\n",
       "      <td>(POLYGON ((299680.3244478637 2508856.504070418...</td>\n",
       "    </tr>\n",
       "    <tr>\n",
       "      <th>4</th>\n",
       "      <td>V16</td>\n",
       "      <td>10014160</td>\n",
       "      <td>èºæ±ç¸£</td>\n",
       "      <td>è­å¶¼é</td>\n",
       "      <td>Lanyu Township</td>\n",
       "      <td>V</td>\n",
       "      <td>10014</td>\n",
       "      <td>(POLYGON ((312366.5532243128 2427565.632571995...</td>\n",
       "    </tr>\n",
       "  </tbody>\n",
       "</table>\n",
       "</div>"
      ],
      "text/plain": [
       "  TOWNID  TOWNCODE COUNTYNAME   TOWNNAME             TOWNENG COUNTYID  \\\n",
       "0    V02  10014020  èºæ±ç¸£  æåé®  Chenggong Township        V   \n",
       "1    T21  10013210  å±æ±ç¸£  ä½³å¬é    Jiadong Township        T   \n",
       "2    P13  10009130  é²æç¸£  éº¥å¯®é    Mailiao Township        P   \n",
       "3    V11  10014110  èºæ±ç¸£  ç¶ å³¶é      Lvdao Township        V   \n",
       "4    V16  10014160  èºæ±ç¸£  è­å¶¼é      Lanyu Township        V   \n",
       "\n",
       "  COUNTYCODE                                           geometry  \n",
       "0      10014  POLYGON ((291116.2502699895 2568210.90427058, ...  \n",
       "1      10013  POLYGON ((202700.1009323818 2484838.896560255,...  \n",
       "2      10009  POLYGON ((178050.9925507362 2635053.871752569,...  \n",
       "3      10014  (POLYGON ((299680.3244478637 2508856.504070418...  \n",
       "4      10014  (POLYGON ((312366.5532243128 2427565.632571995...  "
      ]
     },
     "execution_count": 87,
     "metadata": {},
     "output_type": "execute_result"
    }
   ],
   "source": [
    "gdf2 = gpd.read_file('Figure 2/TOWN_MOI_1071031.shp')\n",
    "gdf2.crs = \"+init=epsg:4326\"\n",
    "gdf2 = gdf2.to_crs('+proj=tmerc +ellps=GRS67 +towgs84=-752,-358,-179,-.0000011698,.0000018398,.0000009822,.00002329 +lon_0=121 +x_0=250000 +k=0.9999 +to +proj=tmerc +datum=WGS84 +lon_0=121 +x_0=250000 +k=0.9999')\n",
    "print(gdf2.crs)\n",
    "gdf2.head()"
   ]
  },
  {
   "cell_type": "code",
   "execution_count": 104,
   "metadata": {},
   "outputs": [
    {
     "data": {
      "image/png": "[encoded data removed]",
      "text/plain": [
       "<Figure size 835.2x1195.2 with 1 Axes>"
      ]
     },
     "metadata": {},
     "output_type": "display_data"
    }
   ],
   "source": [
    "fig, ax = plt.subplots(figsize=(11.6, 16.6))\n",
    "ax.set_aspect('equal')\n",
    "\n",
    "gdf.plot(ax=ax, color='#d8dcd6', edgecolor='#1e488f', linewidth=.5, alpha=.7, zorder=3)\n",
    "ax.set_xlim((296210.4266436311, 314428.2297371909))\n",
    "ax.set_ylim((2762356.474944701, 2787761.0248894696))\n",
    "gdf2.plot(ax=ax,  color='#ffffe4', edgecolor='#96ae8d', linewidth=.5, alpha=.5, zorder=2)\n",
    "\n",
    "pt1 = ax.scatter(loc_x,  loc_y,  s=150, color='#34013f', zorder=7, marker='+', label='49 stores appeared in the top 50')\n",
    "pt2 = ax.scatter(loc_x2, loc_y2, s=150, fc='#b1d1fc', ec='k', zorder=6, marker='o', label='74 stores appeared in the top 10')\n",
    "ax.legend(fontsize=18)\n",
    "\n",
    "scalebar = ScaleBar(1, fixed_value=2, fixed_units='km', location='lower left') # 1 pixel = 1 meter\n",
    "ax.add_artist(scalebar)\n",
    "ax.set_xticks([])\n",
    "ax.set_yticks([])\n",
    "plt.tight_layout()\n",
    "plt.savefig('newFigure_similarity.png', dpi=150, bbox_inches='tight')"
   ]
  },
  {
   "cell_type": "code",
   "execution_count": null,
   "metadata": {},
   "outputs": [],
   "source": []
  }
 ],
 "metadata": {
  "kernelspec": {
   "display_name": "Python 3",
   "language": "python",
   "name": "python3"
  },
  "language_info": {
   "codemirror_mode": {
    "name": "ipython",
    "version": 3
   },
   "file_extension": ".py",
   "mimetype": "text/x-python",
   "name": "python",
   "nbconvert_exporter": "python",
   "pygments_lexer": "ipython3",
   "version": "3.6.8"
  }
 },
 "nbformat": 4,
 "nbformat_minor": 4
}
